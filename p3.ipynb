{
 "cells": [
  {
   "cell_type": "code",
   "execution_count": 61,
   "id": "c5c9d46c",
   "metadata": {
    "deletable": false,
    "editable": false
   },
   "outputs": [],
   "source": [
    "# Initialize Otter\n",
    "import otter\n",
    "grader = otter.Notebook(\"p3.ipynb\")"
   ]
  },
  {
   "cell_type": "code",
   "execution_count": 62,
   "id": "807ba163",
   "metadata": {},
   "outputs": [],
   "source": [
    "# DO NOT MODIFY the code in this cell\n",
    "# You must run this cell before you start working on the project\n",
    "import test"
   ]
  },
  {
   "cell_type": "markdown",
   "id": "0b7bd284",
   "metadata": {},
   "source": [
    "# Project 3: Electric Vehicle Sales"
   ]
  },
  {
   "cell_type": "markdown",
   "id": "1a65bc9e",
   "metadata": {},
   "source": [
    "## Learning Objectives:\n",
    "\n",
    "In this project you will demonstrate your ability to:\n",
    "- import a module and use its functions,\n",
    "- write functions,\n",
    "- use default arguments when calling functions,\n",
    "- use positional and keyword arguments when calling functions,\n",
    "- avoid hardcoding, and\n",
    "- work with the index of a row of data."
   ]
  },
  {
   "cell_type": "markdown",
   "id": "b7156aa8",
   "metadata": {},
   "source": [
    "## Testing your code:\n",
    "\n",
    "Along with this notebook, you must have downloaded the file `test.py`. If you are curious about how we test your code, you can explore this file, and specifically the value of the variable `expected_json`, to understand the expected answers to the questions. You can have a look at [p2](https://git.doit.wisc.edu/cdis/cs/courses/cs220/cs220-f22-projects/-/tree/main/p2) if you have forgotten how to read the outputs of the `grader.check(...)` function calls."
   ]
  },
  {
   "cell_type": "markdown",
   "id": "860ad0d7",
   "metadata": {},
   "source": [
    "**Please go through [lab-p3](https://git.doit.wisc.edu/cdis/cs/courses/cs220/cs220-f22-projects/-/tree/main/lab-p3) before starting this project.** The lab introduces some useful techniques necessary for this project."
   ]
  },
  {
   "cell_type": "markdown",
   "id": "ed309451",
   "metadata": {},
   "source": [
    "## Project Description:\n",
    "\n",
    "In this project, you'll analyze data on six different electric vehicle models sold in the United States between 2015 and 2019. The dataset we will analyze is truncated and modified from [the Alternative Fuels Data Center](https://afdc.energy.gov/data/) published by the U.S. Department of Energy.\n",
    "\n",
    "You'll get practice calling functions from the `project` module, which we've provided, and practice writing your own functions.\n",
    "\n",
    "If you haven't already downloaded `project.py`, `test.py`, and  `car_sales_data.csv` (you can verify by running `ls` in a new terminal tab from your `p3` project directory). , please terminate the current `jupyter notebook` session, download all the required files, launch a `jupyter notebook` session again and click on *Kernel* > *Restart and Clear Output*. Start by executing all the cells (including the ones containing `import` statements).\n",
    "\n",
    "\n",
    "We won't explain how to use the `project` module here (i.e., the code in the `project.py` file).  Refer to [lab-p3](https://git.doit.wisc.edu/cdis/cs/courses/cs220/cs220-f22-projects/-/tree/main/lab-p3) to understand how the inspection process works and use the `help(...)` function to learn about the various functions inside `project.py`. Feel free to take a look at the `project.py` code, if you are curious about how it works.\n",
    "\n",
    "This project consists of writing code to answer 20 questions."
   ]
  },
  {
   "cell_type": "markdown",
   "id": "b3ac111b",
   "metadata": {},
   "source": [
    "## Dataset:\n",
    "\n",
    "The dataset you will be working with for this project is reproduced here:\n",
    "\n",
    "id|vehicle|2015|2016|2017|2018|2019\n",
    "------|------|------|------|------|------|------|\n",
    "958|Tesla Model S|26200|30200|26500|25745|15090\n",
    "10|Chevy Volt|15393|24739|20349|18306|4915\n",
    "64|Nissan Leaf|17269|14006|11230|14715|12365\n",
    "977|Toyota Prius PHEV|4191|2474|20936|27595|23630\n",
    "332|Ford Fusion Energi|9750|15938|9632|8074|7476\n",
    "951|Tesla Model X|208|19600|21700|26100|19425\n",
    "\n",
    "\n",
    "This table lists 6 different electric vehicle models, and how many cars of each model were sold each year between 2015 and 2019 (inclusive of both years).\n",
    "\n",
    "The dataset is in the `car_sales_data.csv` file which you downloaded. Alternatively, you can open the `car_sales_data.csv` file, to look at the same data and verify answers to simple questions."
   ]
  },
  {
   "cell_type": "markdown",
   "id": "183a81a3",
   "metadata": {},
   "source": [
    "## Project Requirements:\n",
    "\n",
    "You **may not** hardcode indices in your code. For example, if we ask how many Nissan Leaf cars were sold in 2016, you could obtain the answer with this code: `get_sales(get_id(\"Nissan Leaf\"), 2016)`.  If you don't use `get_id` and instead use `get_sales(64, 2016)`, we'll **manually deduct** points from your autograder score on Gradescope during code review.\n",
    "\n",
    "For some of the questions, we'll ask you to write (then use) a function to compute the answer.  If you compute the answer **without** creating the function we ask you to write, we'll **manually deduct** points from your autograder score on Gradescope, even if the way you did it produced the correct answer.\n",
    "\n",
    "Students are only allowed to use Python commands and concepts that have been taught in the course before the release of p3. In particular, you are **NOT** allowed to use Conditionals or Iteration on this project. We will **manually deduct** points from your autograder score on Gradescope otherwise.\n",
    "\n",
    "For more details on what will cause you to lose points during code review, please take a look at the [Grading rubric](https://git.doit.wisc.edu/cdis/cs/courses/cs220/cs220-f22-projects/-/blob/main/p3/rubric.md)."
   ]
  },
  {
   "cell_type": "markdown",
   "id": "a43cc524",
   "metadata": {},
   "source": [
    "## Incremental Coding and Testing:\n",
    "\n",
    "You should always strive to do incremental coding. Incremental coding enables you to avoid challenging bugs. Always write a few lines of code and then test those lines of code, before proceeding to write further code. You can call the `print` function to test intermediate step outputs. Store your final answer for each question in the variable recommended for each question. This step is important because Otter grades your work by comparing the value of this variable against the correct answer. So, if you store your answer in a different variable, you will not get points for it.\n",
    "\n",
    "We also recommend you do incremental testing: make sure to run the local tests as soon as you are done with a question. This will ensure that you haven't made a big mistake that might potentially impact the rest of your project solution. Please refrain from making multiple submissions on Gradescope for testing individual questions' answers. Instead use the local tests, to test your solution on your laptop. \n",
    "\n",
    "That said, it is very **important** that you check the *Gradescope* test results as soon as you submit your project on Gradescope. Test results on *Gradescope* are typically available somewhere between 2 to 10 minutes after the submission."
   ]
  },
  {
   "cell_type": "markdown",
   "id": "90a9199a",
   "metadata": {},
   "source": [
    "## Project Questions and Functions:"
   ]
  },
  {
   "cell_type": "code",
   "execution_count": 63,
   "id": "27e49de7",
   "metadata": {
    "tags": []
   },
   "outputs": [],
   "source": [
    "# Include the relevant import statements in this cell\n",
    "import project"
   ]
  },
  {
   "cell_type": "code",
   "execution_count": 64,
   "id": "f7d6af3f",
   "metadata": {
    "tags": []
   },
   "outputs": [
    {
     "name": "stdout",
     "output_type": "stream",
     "text": [
      "Chevy Volt [ID: 10]\n",
      "  2015: 15393 cars sold\n",
      "  2016: 24739 cars sold\n",
      "  2017: 20349 cars sold\n",
      "  2018: 18306 cars sold\n",
      "  2019: 4915 cars sold\n",
      "\n",
      "Ford Fusion Energi [ID: 332]\n",
      "  2015: 9750 cars sold\n",
      "  2016: 15938 cars sold\n",
      "  2017: 9632 cars sold\n",
      "  2018: 8074 cars sold\n",
      "  2019: 7476 cars sold\n",
      "\n",
      "Nissan Leaf [ID: 64]\n",
      "  2015: 17269 cars sold\n",
      "  2016: 14006 cars sold\n",
      "  2017: 11230 cars sold\n",
      "  2018: 14715 cars sold\n",
      "  2019: 12365 cars sold\n",
      "\n",
      "Tesla Model S [ID: 958]\n",
      "  2015: 26200 cars sold\n",
      "  2016: 30200 cars sold\n",
      "  2017: 26500 cars sold\n",
      "  2018: 25745 cars sold\n",
      "  2019: 15090 cars sold\n",
      "\n",
      "Tesla Model X [ID: 951]\n",
      "  2015: 208 cars sold\n",
      "  2016: 19600 cars sold\n",
      "  2017: 21700 cars sold\n",
      "  2018: 26100 cars sold\n",
      "  2019: 19425 cars sold\n",
      "\n",
      "Toyota Prius PHEV [ID: 977]\n",
      "  2015: 4191 cars sold\n",
      "  2016: 2474 cars sold\n",
      "  2017: 20936 cars sold\n",
      "  2018: 27595 cars sold\n",
      "  2019: 23630 cars sold\n",
      "\n"
     ]
    }
   ],
   "source": [
    "# Call the init function to load the dataset\n",
    "project.init(\"car_sales_data.csv\")\n",
    "# You may call the dump function here to test if you have loaded the dataset correctly.\n",
    "project.dump()"
   ]
  },
  {
   "cell_type": "markdown",
   "id": "d81882b5",
   "metadata": {},
   "source": [
    "**Question 1:** What is the `id` of the *Toyota Prius PHEV*?"
   ]
  },
  {
   "cell_type": "code",
   "execution_count": 65,
   "id": "ef8226c8",
   "metadata": {
    "tags": []
   },
   "outputs": [
    {
     "data": {
      "text/plain": [
       "977"
      ]
     },
     "execution_count": 65,
     "metadata": {},
     "output_type": "execute_result"
    }
   ],
   "source": [
    "# INCORRECT ANSWER prius_id = 977 => this is considered hardcoding\n",
    "prius_id = project.get_id(\"Toyota Prius PHEV\")\n",
    "prius_id"
   ]
  },
  {
   "cell_type": "code",
   "execution_count": 66,
   "id": "9007c6a9",
   "metadata": {
    "deletable": false,
    "editable": false
   },
   "outputs": [
    {
     "data": {
      "text/html": [
       "<p><strong><pre style='display: inline;'>q1</pre></strong> passed!</p>"
      ],
      "text/plain": [
       "q1 results: All test cases passed!"
      ]
     },
     "execution_count": 66,
     "metadata": {},
     "output_type": "execute_result"
    }
   ],
   "source": [
    "grader.check(\"q1\")"
   ]
  },
  {
   "cell_type": "markdown",
   "id": "01f6a286",
   "metadata": {},
   "source": [
    "Instead of repeatedly calling `project.get_id` function for each question, make these calls once at the beginning of your notebook and save the results in variables. Recall that calling the same function multiple times with the same argument(s) is a waste of computation. Complete the code in the below cell and make sure to use the relevant ID variables for the rest of the project questions."
   ]
  },
  {
   "cell_type": "code",
   "execution_count": 67,
   "id": "f4bada37",
   "metadata": {
    "tags": []
   },
   "outputs": [],
   "source": [
    "model_s_id = project.get_id('Tesla Model S') # we have done this for you\n",
    "# replace the ... in the line below with code to get the id of 'Chevy Volt'\n",
    "volt_id = project.get_id('Chevy Volt')\n",
    "# invoke get_id for the other car models and store the result into similar variable names\n",
    "# considering that you already invokved get_id for Toyota Prius PHEV, you need to \n",
    "# make 3 more function calls to store the ID for the rest of the vehicles\n",
    "energi_id = project.get_id('Ford Fusion Energi')\n",
    "leaf_id = project.get_id('Nissan Leaf')\n",
    "model_x_id = project.get_id('Tesla Model X')"
   ]
  },
  {
   "cell_type": "markdown",
   "id": "00ec7bdd",
   "metadata": {},
   "source": [
    "**Question 2:** How many *Nissan Leaf* cars were sold in *2017*?\n",
    "\n",
    "Your answer should just be a number (without any units at the end). You **should not** hardcode the ID of the car. You **must** use the variable that you used to store the ID of Nissan Leaf (assuming you already invoked `get_id` for all the car models in the cell right below Question 1)."
   ]
  },
  {
   "cell_type": "code",
   "execution_count": 68,
   "id": "e94197e7",
   "metadata": {
    "tags": []
   },
   "outputs": [
    {
     "data": {
      "text/plain": [
       "11230"
      ]
     },
     "execution_count": 68,
     "metadata": {},
     "output_type": "execute_result"
    }
   ],
   "source": [
    "num_leaf = project.get_sales(leaf_id, 2017)\n",
    "num_leaf"
   ]
  },
  {
   "cell_type": "code",
   "execution_count": 69,
   "id": "bb8ad42a",
   "metadata": {
    "deletable": false,
    "editable": false
   },
   "outputs": [
    {
     "data": {
      "text/html": [
       "<p><strong><pre style='display: inline;'>q2</pre></strong> passed!</p>"
      ],
      "text/plain": [
       "q2 results: All test cases passed!"
      ]
     },
     "execution_count": 69,
     "metadata": {},
     "output_type": "execute_result"
    }
   ],
   "source": [
    "grader.check(\"q2\")"
   ]
  },
  {
   "cell_type": "markdown",
   "id": "c0be93e7",
   "metadata": {},
   "source": [
    "### Function 1: `year_max(year)`\n",
    "\n",
    "This function will compute the highest number of sales for any model in the given `year`.\n",
    "\n",
    "It has already been written for you, so you do not have to modify it. You can directly call this function to answer the following questions. "
   ]
  },
  {
   "cell_type": "code",
   "execution_count": 70,
   "id": "45fcf54b",
   "metadata": {
    "tags": []
   },
   "outputs": [],
   "source": [
    "def year_max(year):\n",
    "    \"\"\"\n",
    "    computes the highest number of sales for any model in the given year\n",
    "    \"\"\"\n",
    "    # get the sales of each model in the given year\n",
    "    model_s_sales = project.get_sales(project.get_id('Tesla Model S'), year)\n",
    "    volt_sales = project.get_sales(project.get_id('Chevy Volt'), year)\n",
    "    leaf_sales = project.get_sales(project.get_id('Nissan Leaf'), year)\n",
    "    prius_sales = project.get_sales(project.get_id('Toyota Prius PHEV'), year)\n",
    "    fusion_sales = project.get_sales(project.get_id('Ford Fusion Energi'), year)\n",
    "    model_x_sales = project.get_sales(project.get_id('Tesla Model X'), year)\n",
    "\n",
    "    # use the built-in max function to get the maximum of the six values\n",
    "    return max(model_s_sales, volt_sales, leaf_sales, prius_sales, fusion_sales, model_x_sales)"
   ]
  },
  {
   "cell_type": "markdown",
   "id": "9e8f0f4e",
   "metadata": {},
   "source": [
    "**Question 3:** What was the highest number of sales for *any* model in the year *2017*?\n",
    "\n",
    "You **must** call the `year_max` function to answer this question."
   ]
  },
  {
   "cell_type": "code",
   "execution_count": 71,
   "id": "d27d5af4",
   "metadata": {
    "tags": []
   },
   "outputs": [
    {
     "data": {
      "text/plain": [
       "26500"
      ]
     },
     "execution_count": 71,
     "metadata": {},
     "output_type": "execute_result"
    }
   ],
   "source": [
    "max_sales_2017 = year_max(2017)\n",
    "max_sales_2017"
   ]
  },
  {
   "cell_type": "code",
   "execution_count": 72,
   "id": "2fa4cd59",
   "metadata": {
    "deletable": false,
    "editable": false
   },
   "outputs": [
    {
     "data": {
      "text/html": [
       "<p><strong><pre style='display: inline;'>q3</pre></strong> passed!</p>"
      ],
      "text/plain": [
       "q3 results: All test cases passed!"
      ]
     },
     "execution_count": 72,
     "metadata": {},
     "output_type": "execute_result"
    }
   ],
   "source": [
    "grader.check(\"q3\")"
   ]
  },
  {
   "cell_type": "markdown",
   "id": "c2771e9a",
   "metadata": {},
   "source": [
    "**Question 4:** What was the highest number of sales for *any* model in a single year in the period *2016-2018*?\n",
    "\n",
    "Recall that we can use the `max` function to compute the maximum of some values. Look at the lab examples where you used the `max` function or the `year_max` function definition. To be clear, the answer to this question is a single integer whose value is the highest sales number achieved by any model in a single year during these three years. You **must** invoke the `year_max` function in your answer to this question."
   ]
  },
  {
   "cell_type": "code",
   "execution_count": 73,
   "id": "dbf1273e",
   "metadata": {
    "tags": []
   },
   "outputs": [
    {
     "data": {
      "text/plain": [
       "30200"
      ]
     },
     "execution_count": 73,
     "metadata": {},
     "output_type": "execute_result"
    }
   ],
   "source": [
    "max_sales_2016_to_2018 = max(year_max(2016), year_max(2017), year_max(2018))\n",
    "max_sales_2016_to_2018"
   ]
  },
  {
   "cell_type": "code",
   "execution_count": 74,
   "id": "fece83de",
   "metadata": {
    "deletable": false,
    "editable": false
   },
   "outputs": [
    {
     "data": {
      "text/html": [
       "<p><strong><pre style='display: inline;'>q4</pre></strong> passed!</p>"
      ],
      "text/plain": [
       "q4 results: All test cases passed!"
      ]
     },
     "execution_count": 74,
     "metadata": {},
     "output_type": "execute_result"
    }
   ],
   "source": [
    "grader.check(\"q4\")"
   ]
  },
  {
   "cell_type": "markdown",
   "id": "e8551c39",
   "metadata": {},
   "source": [
    "### Function 2: `sales_min(model)`\n",
    "\n",
    "This function should compute the lowest number of sales in a year for the given `model` considering every year in the dataset.\n",
    "\n",
    "We'll help you get started with this function, but you need to fill in the rest of the function yourself."
   ]
  },
  {
   "cell_type": "code",
   "execution_count": 75,
   "id": "4cceaa0a",
   "metadata": {
    "tags": []
   },
   "outputs": [],
   "source": [
    "def sales_min(model):\n",
    "    \"\"\"\n",
    "    computes the lowest number of sales in a year for the given model\n",
    "    \"\"\"\n",
    "    model_id = project.get_id(model)    \n",
    "    sales_2015 = project.get_sales(model_id, 2015)\n",
    "    sales_2016 = project.get_sales(model_id, 2016)\n",
    "    # get the sales from other years\n",
    "    sales_2017 = project.get_sales(model_id, 2017)\n",
    "    sales_2018 = project.get_sales(model_id, 2018)\n",
    "    sales_2019 = project.get_sales(model_id, 2019)\n",
    "    # use the built-in min function (similar to the max function) to get the minimum across the \n",
    "    # five years and return that value\n",
    "    \n",
    "    min_sales_2015_to_2019 = min(sales_2015, sales_2016, sales_2017, sales_2018, sales_2019)\n",
    "    return min_sales_2015_to_2019"
   ]
  },
  {
   "cell_type": "markdown",
   "id": "daee0146",
   "metadata": {},
   "source": [
    "**Question 5:** What was the lowest number of sales for the *Tesla Model S* in a *single* year?\n",
    "\n",
    "You **must** call the `sales_min` function to answer this question."
   ]
  },
  {
   "cell_type": "code",
   "execution_count": 76,
   "id": "e7a9c9dd",
   "metadata": {
    "tags": []
   },
   "outputs": [
    {
     "data": {
      "text/plain": [
       "15090"
      ]
     },
     "execution_count": 76,
     "metadata": {},
     "output_type": "execute_result"
    }
   ],
   "source": [
    "min_sales_model_S = sales_min(\"Tesla Model S\")\n",
    "min_sales_model_S"
   ]
  },
  {
   "cell_type": "code",
   "execution_count": 77,
   "id": "8d7dea80",
   "metadata": {
    "deletable": false,
    "editable": false
   },
   "outputs": [
    {
     "data": {
      "text/html": [
       "<p><strong><pre style='display: inline;'>q5</pre></strong> passed!</p>"
      ],
      "text/plain": [
       "q5 results: All test cases passed!"
      ]
     },
     "execution_count": 77,
     "metadata": {},
     "output_type": "execute_result"
    }
   ],
   "source": [
    "grader.check(\"q5\")"
   ]
  },
  {
   "cell_type": "markdown",
   "id": "e56e8c40",
   "metadata": {},
   "source": [
    "**Question 6:** What was the lowest sales number in a *single* year between the *Chevy Volt*, *Ford Fusion Energi*, and the *Nissan Leaf*?\n",
    "\n",
    "Recall that we can use the `min` function to compute the minimum of some values. To be clear, the answer to this question is a single integer whose value is the lowest sales number achieved in a single year during this entire period between 2015-2019 by any of the 3 models mentioned. You **must** invoke the `sales_min` function in your answer to this question."
   ]
  },
  {
   "cell_type": "code",
   "execution_count": 78,
   "id": "ed169781",
   "metadata": {
    "tags": []
   },
   "outputs": [
    {
     "data": {
      "text/plain": [
       "4915"
      ]
     },
     "execution_count": 78,
     "metadata": {},
     "output_type": "execute_result"
    }
   ],
   "source": [
    "# compute and store the answer in the variable 'min_sales_CV_FFE_NL'\n",
    "min_sales_CV_FFE_NL = min(sales_min(\"Chevy Volt\"), sales_min(\"Ford Fusion Energi\"), sales_min(\"Nissan Leaf\"))\n",
    "# display the variable 'min_sales_CV_FFE_NL' here\n",
    "min_sales_CV_FFE_NL"
   ]
  },
  {
   "cell_type": "code",
   "execution_count": 79,
   "id": "a1756b19",
   "metadata": {
    "deletable": false,
    "editable": false
   },
   "outputs": [
    {
     "data": {
      "text/html": [
       "<p><strong><pre style='display: inline;'>q6</pre></strong> passed!</p>"
      ],
      "text/plain": [
       "q6 results: All test cases passed!"
      ]
     },
     "execution_count": 79,
     "metadata": {},
     "output_type": "execute_result"
    }
   ],
   "source": [
    "grader.check(\"q6\")"
   ]
  },
  {
   "cell_type": "markdown",
   "id": "90e72f55",
   "metadata": {},
   "source": [
    "### Function 3: `sales_avg(model) `\n",
    "\n",
    "This function should compute the average yearly sales number for the given `model` across the five years in the dataset (i.e. *2015 - 2019*).\n",
    "\n",
    "**Hint:** start by copy/pasting the `sales_min` function definition, and renaming your copy to `sales_avg` (this is not necessary, but it will save you time).  \n",
    "Instead of returning the minimum of `sales_2015`, `sales_2016`, etc., return the average of these by adding them together, then dividing by five. \n",
    "**You may hardcode the number 5 for this computation**.\n",
    "\n",
    "The type of the *return value* should be `float`."
   ]
  },
  {
   "cell_type": "code",
   "execution_count": 80,
   "id": "5b34026b",
   "metadata": {
    "tags": []
   },
   "outputs": [],
   "source": [
    "# define the function sales_avg(model) here\n",
    "def sales_avg(model):\n",
    "    \n",
    "    model_id = project.get_id(model)    \n",
    "    sales_2015 = project.get_sales(model_id, 2015)\n",
    "    sales_2016 = project.get_sales(model_id, 2016)\n",
    "    sales_2017 = project.get_sales(model_id, 2017)\n",
    "    sales_2018 = project.get_sales(model_id, 2018)\n",
    "    sales_2019 = project.get_sales(model_id, 2019)\n",
    "    \n",
    "    sales_avg_2015_to_2019 = (sales_2015 + sales_2016 + sales_2017 + sales_2018 + sales_2019)/5\n",
    "    return sales_avg_2015_to_2019"
   ]
  },
  {
   "cell_type": "markdown",
   "id": "73c1c0aa",
   "metadata": {},
   "source": [
    "**Question 7:** What was the average number of *Toyota Prius PHEV* cars sold per year between *2015* and *2019*?\n",
    "\n",
    "You **must** call the `sales_avg` function to answer this question."
   ]
  },
  {
   "cell_type": "code",
   "execution_count": 81,
   "id": "d4441e7b",
   "metadata": {
    "tags": []
   },
   "outputs": [
    {
     "data": {
      "text/plain": [
       "15765.2"
      ]
     },
     "execution_count": 81,
     "metadata": {},
     "output_type": "execute_result"
    }
   ],
   "source": [
    "# compute and store the answer in the variable 'sales_avg_prius_2015_to_2019'\n",
    "sales_avg_prius_2015_to_2019 = sales_avg(\"Toyota Prius PHEV\")\n",
    "# display the variable 'sales_avg_prius_2015_to_2019' here\n",
    "sales_avg_prius_2015_to_2019"
   ]
  },
  {
   "cell_type": "code",
   "execution_count": 82,
   "id": "eedd985b",
   "metadata": {
    "deletable": false,
    "editable": false
   },
   "outputs": [
    {
     "data": {
      "text/html": [
       "<p><strong><pre style='display: inline;'>q7</pre></strong> passed!</p>"
      ],
      "text/plain": [
       "q7 results: All test cases passed!"
      ]
     },
     "execution_count": 82,
     "metadata": {},
     "output_type": "execute_result"
    }
   ],
   "source": [
    "grader.check(\"q7\")"
   ]
  },
  {
   "cell_type": "markdown",
   "id": "81ea558c",
   "metadata": {},
   "source": [
    "**Question 8:** What was the average number of *Chevy Volt* cars sold per year between *2015* and *2019*?\n",
    "\n",
    "You **must** call the `sales_avg` function to answer this question."
   ]
  },
  {
   "cell_type": "code",
   "execution_count": 83,
   "id": "25fc97fd",
   "metadata": {
    "tags": []
   },
   "outputs": [
    {
     "data": {
      "text/plain": [
       "16740.4"
      ]
     },
     "execution_count": 83,
     "metadata": {},
     "output_type": "execute_result"
    }
   ],
   "source": [
    "# compute and store the answer in the variable 'sales_avg_volt_2015_to_2019'\n",
    "sales_avg_volt_2015_to_2019 = sales_avg(\"Chevy Volt\")\n",
    "# display the variable 'sales_avg_volt_2015_to_2019' here\n",
    "sales_avg_volt_2015_to_2019"
   ]
  },
  {
   "cell_type": "code",
   "execution_count": 84,
   "id": "47e895d5",
   "metadata": {
    "deletable": false,
    "editable": false
   },
   "outputs": [
    {
     "data": {
      "text/html": [
       "<p><strong><pre style='display: inline;'>q8</pre></strong> passed!</p>"
      ],
      "text/plain": [
       "q8 results: All test cases passed!"
      ]
     },
     "execution_count": 84,
     "metadata": {},
     "output_type": "execute_result"
    }
   ],
   "source": [
    "grader.check(\"q8\")"
   ]
  },
  {
   "cell_type": "markdown",
   "id": "ece2df7d",
   "metadata": {},
   "source": [
    "**Question 9:** Relative to its 5-year average, how many more or fewer *Nissan Leaf* cars were sold in *2018*?\n",
    "\n",
    "**Hint:** Call the `sales_avg` function, to compare the *Nissan Leaf* average sales to the *Nissan Leaf* sales in *2018*. \n",
    "Your answer will be a positive number if more Nissan Leafs were sold in 2018 than on average. Your answer will be a negative number if fewer Nissan Leafs were sold in 2018 than on average."
   ]
  },
  {
   "cell_type": "code",
   "execution_count": 85,
   "id": "719989d1",
   "metadata": {
    "tags": []
   },
   "outputs": [
    {
     "data": {
      "text/plain": [
       "798.0"
      ]
     },
     "execution_count": 85,
     "metadata": {},
     "output_type": "execute_result"
    }
   ],
   "source": [
    "# compute and store the answer in the variable 'diff_leaf_2018_to_average'.\n",
    "# it is recommended that you create more intermediary variables to make your code easier to write and read.\n",
    "# some useful intermediary variables you could create are: 'leaf_id', 'num_sales_leaf_2018'.\n",
    "num_sales_leaf_2018 = project.get_sales(leaf_id, 2018)\n",
    "diff_leaf_2018_to_average = num_sales_leaf_2018 - sales_avg(\"Nissan Leaf\")\n",
    "# display the variable 'diff_leaf_2018_to_average' here\n",
    "diff_leaf_2018_to_average"
   ]
  },
  {
   "cell_type": "code",
   "execution_count": 86,
   "id": "185807f7",
   "metadata": {
    "deletable": false,
    "editable": false
   },
   "outputs": [
    {
     "data": {
      "text/html": [
       "<p><strong><pre style='display: inline;'>q9</pre></strong> passed!</p>"
      ],
      "text/plain": [
       "q9 results: All test cases passed!"
      ]
     },
     "execution_count": 86,
     "metadata": {},
     "output_type": "execute_result"
    }
   ],
   "source": [
    "grader.check(\"q9\")"
   ]
  },
  {
   "cell_type": "markdown",
   "id": "5e0fc1ec",
   "metadata": {},
   "source": [
    "### Function 4: `year_sum(year)`\n",
    "\n",
    "This function should compute the total number of sales across every model for the given `year`.\n",
    "\n",
    "You can start from the following code snippet:"
   ]
  },
  {
   "cell_type": "code",
   "execution_count": 87,
   "id": "c4c3511b",
   "metadata": {
    "tags": []
   },
   "outputs": [],
   "source": [
    "def year_sum(year=2019): # DO NOT EDIT THIS LINE\n",
    "    \"\"\"\n",
    "    computes the total number of sales across every model for the given year\n",
    "    \"\"\"\n",
    "    # this statement tells Python to do nothing.\n",
    "    # since this function has no code inside, we have added the pass statement \n",
    "    # inside so the code does not crash.\n",
    "    # once you have added code to this function, you can (and should) \n",
    "    # remove the pass statement as it does nothing.\n",
    "    \n",
    "    # finish this function definition and return the total number of sales \n",
    "    # across every model for the given 'year'\n",
    "    \n",
    "    model_s_sales = project.get_sales(project.get_id('Tesla Model S'), year)\n",
    "    volt_sales = project.get_sales(project.get_id('Chevy Volt'), year)\n",
    "    leaf_sales = project.get_sales(project.get_id('Nissan Leaf'), year)\n",
    "    prius_sales = project.get_sales(project.get_id('Toyota Prius PHEV'), year)\n",
    "    fusion_sales = project.get_sales(project.get_id('Ford Fusion Energi'), year)\n",
    "    model_x_sales = project.get_sales(project.get_id('Tesla Model X'), year)\n",
    "\n",
    "    return model_s_sales + volt_sales + leaf_sales + prius_sales + fusion_sales + model_x_sales"
   ]
  },
  {
   "cell_type": "markdown",
   "id": "134a04c1",
   "metadata": {},
   "source": [
    "**Question 10:** What was the *total* number of vehicles sold in *2019*?\n",
    "\n",
    "You **must** call the `year_sum` function to answer this question. Use the default argument (your call to `year_sum` function **should not** pass any arguments)."
   ]
  },
  {
   "cell_type": "code",
   "execution_count": 88,
   "id": "70c663d9",
   "metadata": {
    "tags": []
   },
   "outputs": [
    {
     "data": {
      "text/plain": [
       "82901"
      ]
     },
     "execution_count": 88,
     "metadata": {},
     "output_type": "execute_result"
    }
   ],
   "source": [
    "# compute and store the answer in the variable 'sales_sum_2019'\n",
    "sales_sum_2019 = year_sum(2019)\n",
    "# display the variable 'sales_sum_2019' here\n",
    "sales_sum_2019"
   ]
  },
  {
   "cell_type": "code",
   "execution_count": 89,
   "id": "c26eb96e",
   "metadata": {
    "deletable": false,
    "editable": false
   },
   "outputs": [
    {
     "data": {
      "text/html": [
       "<p><strong><pre style='display: inline;'>q10</pre></strong> passed!</p>"
      ],
      "text/plain": [
       "q10 results: All test cases passed!"
      ]
     },
     "execution_count": 89,
     "metadata": {},
     "output_type": "execute_result"
    }
   ],
   "source": [
    "grader.check(\"q10\")"
   ]
  },
  {
   "cell_type": "markdown",
   "id": "b82bdc41",
   "metadata": {},
   "source": [
    "**Question 11:** What was the *total* number of vehicles sold between *2017* and *2019*?\n",
    "\n",
    "You **must** invoke the `year_sum` function in your answer to this question. To be clear, the answer to this question is a single integer whose value is the total sales number achieved by all six models during these three years."
   ]
  },
  {
   "cell_type": "code",
   "execution_count": 90,
   "id": "a4b07d54",
   "metadata": {
    "tags": []
   },
   "outputs": [
    {
     "data": {
      "text/plain": [
       "313783"
      ]
     },
     "execution_count": 90,
     "metadata": {},
     "output_type": "execute_result"
    }
   ],
   "source": [
    "# compute and store the answer in the variable 'sales_sum_2017_to_2019'\n",
    "sales_sum_2017_to_2019 = year_sum(2017) + year_sum(2018) + year_sum(2019)\n",
    "# display the variable 'sales_sum_2017_to_2019' here\n",
    "sales_sum_2017_to_2019"
   ]
  },
  {
   "cell_type": "code",
   "execution_count": 91,
   "id": "b5e3d6ae",
   "metadata": {
    "deletable": false,
    "editable": false
   },
   "outputs": [
    {
     "data": {
      "text/html": [
       "<p><strong><pre style='display: inline;'>q11</pre></strong> passed!</p>"
      ],
      "text/plain": [
       "q11 results: All test cases passed!"
      ]
     },
     "execution_count": 91,
     "metadata": {},
     "output_type": "execute_result"
    }
   ],
   "source": [
    "grader.check(\"q11\")"
   ]
  },
  {
   "cell_type": "markdown",
   "id": "9c78acee",
   "metadata": {},
   "source": [
    "### Function 5: `change_per_year(model, start_year, end_year)`\n",
    "\n",
    "This function should return the average increase/decrease in sales (could be positive if there's an increase, negative if there’s a decrease) over the period from `start_year` to `end_year` for the given `model`.\n",
    "\n",
    "The type of the *return value* should be `float`.\n",
    "\n",
    "We're not asking you to do anything complicated here; you just need to compute the difference in sales between the last year and the first year, then divide by the number of elapsed years. Recall that you created a similar function in the lab. You can start with the following code snippet (with the default arguments):"
   ]
  },
  {
   "cell_type": "code",
   "execution_count": 92,
   "id": "71d79355",
   "metadata": {
    "tags": []
   },
   "outputs": [],
   "source": [
    "def change_per_year(model, start_year=2015, end_year=2019): # DO NOT EDIT THIS LINE\n",
    "    \"\"\"\n",
    "    computes the average increase/decrease in sales (could be positive if there's an increase, \n",
    "    negative if there’s a decrease) over the period from start_year to end_year for the given model\n",
    "    \"\"\"\n",
    "    # as before, you should delete this statement after finishing your function.\n",
    "    \n",
    "    # compute and return the change per year in sales of the model between start_year and end_year\n",
    "    # it is recommended that you create intermediary variables to make your code easier to write and read.\n",
    "    # some useful intermediary variables you could create are: \n",
    "    # 'sales_start_year', 'sales_end_year', 'sales_difference'.\n",
    "    \n",
    "    model_id = project.get_id(model)\n",
    "    sales_start_year = project.get_sales(model_id, start_year)\n",
    "    sales_end_year = project.get_sales(model_id, end_year)\n",
    "    sales_difference = sales_end_year - sales_start_year\n",
    "    \n",
    "    return sales_difference/(end_year - start_year)"
   ]
  },
  {
   "cell_type": "markdown",
   "id": "d7cd1df4",
   "metadata": {},
   "source": [
    "**Question 12:** How much have the sales of the *Ford Fusion Energi* changed per year (on average) from *2015* to *2019*?\n",
    "\n",
    "You **must** call the `change_per_year` function to answer this question. Use the default arguments (your call to `change_per_year` function **should not** pass any more arguments than is absolutely necessary)."
   ]
  },
  {
   "cell_type": "code",
   "execution_count": 93,
   "id": "ae6d3bb6",
   "metadata": {
    "tags": []
   },
   "outputs": [
    {
     "data": {
      "text/plain": [
       "-568.5"
      ]
     },
     "execution_count": 93,
     "metadata": {},
     "output_type": "execute_result"
    }
   ],
   "source": [
    "# compute and store the answer in the variable 'fusion_average_change'\n",
    "fusion_average_change = change_per_year(\"Ford Fusion Energi\")\n",
    "# display the variable 'fusion_average_change' here\n",
    "fusion_average_change"
   ]
  },
  {
   "cell_type": "code",
   "execution_count": 94,
   "id": "93fe2fac",
   "metadata": {
    "deletable": false,
    "editable": false
   },
   "outputs": [
    {
     "data": {
      "text/html": [
       "<p><strong><pre style='display: inline;'>q12</pre></strong> passed!</p>"
      ],
      "text/plain": [
       "q12 results: All test cases passed!"
      ]
     },
     "execution_count": 94,
     "metadata": {},
     "output_type": "execute_result"
    }
   ],
   "source": [
    "grader.check(\"q12\")"
   ]
  },
  {
   "cell_type": "markdown",
   "id": "90323750",
   "metadata": {},
   "source": [
    "**Question 13:** How much have the sales of the *Chevy Volt* changed per year (on average) from *2016* to *2019*?\n",
    "\n",
    "You **must** call the `change_per_year` function to answer this question. Use the default arguments (your call to `change_per_year` function **should not** pass any more arguments than is absolutely necessary)."
   ]
  },
  {
   "cell_type": "code",
   "execution_count": 95,
   "id": "50f1be71",
   "metadata": {
    "tags": []
   },
   "outputs": [
    {
     "data": {
      "text/plain": [
       "-6608.0"
      ]
     },
     "execution_count": 95,
     "metadata": {},
     "output_type": "execute_result"
    }
   ],
   "source": [
    "# compute and store the answer in the variable 'volt_average_change'\n",
    "volt_average_change = change_per_year(\"Chevy Volt\", start_year=2016)\n",
    "# display the variable 'volt_average_change' here\n",
    "volt_average_change"
   ]
  },
  {
   "cell_type": "code",
   "execution_count": 96,
   "id": "90937e00",
   "metadata": {
    "deletable": false,
    "editable": false
   },
   "outputs": [
    {
     "data": {
      "text/html": [
       "<p><strong><pre style='display: inline;'>q13</pre></strong> passed!</p>"
      ],
      "text/plain": [
       "q13 results: All test cases passed!"
      ]
     },
     "execution_count": 96,
     "metadata": {},
     "output_type": "execute_result"
    }
   ],
   "source": [
    "grader.check(\"q13\")"
   ]
  },
  {
   "cell_type": "markdown",
   "id": "b3c29ca7",
   "metadata": {},
   "source": [
    "**Question 14:** How much have the sales of the *Tesla Model X* changed per year (on average) from *2015* to *2018*?\n",
    "\n",
    "You **must** call the `change_per_year` function to answer this question. Use the default arguments (your call to `change_per_year` function **should not** pass any more arguments than is absolutely necessary)."
   ]
  },
  {
   "cell_type": "code",
   "execution_count": 97,
   "id": "c85fe535",
   "metadata": {
    "tags": []
   },
   "outputs": [
    {
     "data": {
      "text/plain": [
       "8630.666666666666"
      ]
     },
     "execution_count": 97,
     "metadata": {},
     "output_type": "execute_result"
    }
   ],
   "source": [
    "# compute and store the answer in the variable 'model_x_average_change'\n",
    "model_x_average_change = change_per_year(\"Tesla Model X\", end_year=2018)\n",
    "# display the variable 'model_x_average_change' here\n",
    "model_x_average_change"
   ]
  },
  {
   "cell_type": "code",
   "execution_count": 98,
   "id": "3e721e07",
   "metadata": {
    "deletable": false,
    "editable": false
   },
   "outputs": [
    {
     "data": {
      "text/html": [
       "<p><strong><pre style='display: inline;'>q14</pre></strong> passed!</p>"
      ],
      "text/plain": [
       "q14 results: All test cases passed!"
      ]
     },
     "execution_count": 98,
     "metadata": {},
     "output_type": "execute_result"
    }
   ],
   "source": [
    "grader.check(\"q14\")"
   ]
  },
  {
   "cell_type": "markdown",
   "id": "fd483b11",
   "metadata": {},
   "source": [
    "### Function 6: `estimate_sales(model, target_year, start_year, end_year)`\n",
    "\n",
    "This function should estimate what the sales would be for the given `model` in the given `target_year` assuming that there is a constant rate of change in the sales after `end_year` that is equal to the average change per year in the period between `start_year` and `end_year`.\n",
    "\n",
    "The type of the *return value* should be `float`.\n",
    "\n",
    "You **must** define `estimate_sales` so that the parameter `start_year` has the default argument `2015` and `end_year` has the default argument `2019`.\n",
    "\n",
    "You **must** call the `change_per_year` function in the definition of `estimate_sales`. **Do not** manually compute the average change in sales."
   ]
  },
  {
   "cell_type": "code",
   "execution_count": 99,
   "id": "f7ce9565",
   "metadata": {
    "tags": []
   },
   "outputs": [],
   "source": [
    "# define the function estimate_sales(model, target_year, start_year, end_year) here.\n",
    "# it should return the estimated sales of the model in target_year based on the change in \n",
    "# sales between start_year and end_year.\n",
    "# it is recommended that you create intermediary variables to make your code easier to write and read.\n",
    "def estimate_sales(model, target_year, start_year=2015, end_year=2019):\n",
    "    model_id = project.get_id(model)\n",
    "    sales_start_year = project.get_sales(model_id, start_year)\n",
    "    sales_end_year = project.get_sales(model_id, end_year)\n",
    "    gap = target_year - end_year\n",
    "    avg_change_in_sales =  change_per_year(model, start_year=start_year, end_year=end_year)\n",
    "    \n",
    "    return (avg_change_in_sales * gap) + sales_end_year"
   ]
  },
  {
   "cell_type": "markdown",
   "id": "d296f6c1",
   "metadata": {},
   "source": [
    "**Question 15:** What are the estimated sales for the *Nissan Leaf* in *2021* based on the average change in sales per year for it between *2015* and *2019*?\n",
    "\n",
    "You **must** call the `estimate_sales` function to answer this question. Use the default arguments if possible (your call to `estimate_sales` function **should not** pass any more arguments than is absolutely necessary)."
   ]
  },
  {
   "cell_type": "code",
   "execution_count": 100,
   "id": "b8184db1",
   "metadata": {
    "tags": []
   },
   "outputs": [
    {
     "data": {
      "text/plain": [
       "9913.0"
      ]
     },
     "execution_count": 100,
     "metadata": {},
     "output_type": "execute_result"
    }
   ],
   "source": [
    "# compute and store the answer in the variable 'leaf_sales_in_2021'\n",
    "leaf_sales_in_2021 = estimate_sales(\"Nissan Leaf\", 2021)\n",
    "# display the variable 'leaf_sales_in_2021' here\n",
    "leaf_sales_in_2021"
   ]
  },
  {
   "cell_type": "code",
   "execution_count": 101,
   "id": "361d8591",
   "metadata": {
    "deletable": false,
    "editable": false
   },
   "outputs": [
    {
     "data": {
      "text/html": [
       "<p><strong><pre style='display: inline;'>q15</pre></strong> passed!</p>"
      ],
      "text/plain": [
       "q15 results: All test cases passed!"
      ]
     },
     "execution_count": 101,
     "metadata": {},
     "output_type": "execute_result"
    }
   ],
   "source": [
    "grader.check(\"q15\")"
   ]
  },
  {
   "cell_type": "markdown",
   "id": "8705d87f",
   "metadata": {},
   "source": [
    "**Question 16:** What are the estimated sales for the *Toyota Prius PHEV* in *2022* based on the average change in sales per year for it between *2016* and *2018*?\n",
    "\n",
    "You **must** call the `estimate_sales` function to answer this question. Use the default arguments if possible (your call to `estimate_sales` function **should not** pass any more arguments than is absolutely necessary)."
   ]
  },
  {
   "cell_type": "code",
   "execution_count": 102,
   "id": "2ccbe75d",
   "metadata": {
    "scrolled": true,
    "tags": []
   },
   "outputs": [
    {
     "data": {
      "text/plain": [
       "77837.0"
      ]
     },
     "execution_count": 102,
     "metadata": {},
     "output_type": "execute_result"
    }
   ],
   "source": [
    "# compute and store the answer in the variable 'prius_sales_in_2022'\n",
    "prius_sales_in_2022 = estimate_sales(\"Toyota Prius PHEV\", 2022, start_year=2016, end_year=2018)\n",
    "# display the variable 'prius_sales_in_2022' here\n",
    "prius_sales_in_2022"
   ]
  },
  {
   "cell_type": "code",
   "execution_count": 103,
   "id": "0d353943",
   "metadata": {
    "deletable": false,
    "editable": false
   },
   "outputs": [
    {
     "data": {
      "text/html": [
       "<p><strong><pre style='display: inline;'>q16</pre></strong> passed!</p>"
      ],
      "text/plain": [
       "q16 results: All test cases passed!"
      ]
     },
     "execution_count": 103,
     "metadata": {},
     "output_type": "execute_result"
    }
   ],
   "source": [
    "grader.check(\"q16\")"
   ]
  },
  {
   "cell_type": "markdown",
   "id": "8fbc8b3e",
   "metadata": {},
   "source": [
    "**Question 17:** What is the difference between estimated sales for the *Tesla Model X* in *2030* based on the average change per year between *2015* and *2018* and between *2015* and *2019*?\n",
    "\n",
    "You **must** invoke the `estimate_sales` function in your answer to this question. Use the default arguments if possible (your call to `estimate_sales` function **should not** pass any more arguments than is absolutely necessary). A positive answer implies that the estimate based on the sales between *2015* and *2018* is higher, while a negative answer implies that it is lower."
   ]
  },
  {
   "cell_type": "code",
   "execution_count": 104,
   "id": "355e84c4",
   "metadata": {
    "tags": []
   },
   "outputs": [
    {
     "data": {
      "text/plain": [
       "57396.25"
      ]
     },
     "execution_count": 104,
     "metadata": {},
     "output_type": "execute_result"
    }
   ],
   "source": [
    "# compute and store the answer in the variable 'diff_sales_model_x_2030'\n",
    "diff_sales_model_x_2030 = estimate_sales(\"Tesla Model X\", 2030, end_year=2018) - estimate_sales(\"Tesla Model X\", 2030)\n",
    "# display the variable 'diff_sales_model_x_2030' here\n",
    "diff_sales_model_x_2030"
   ]
  },
  {
   "cell_type": "code",
   "execution_count": 105,
   "id": "45f378b1",
   "metadata": {
    "deletable": false,
    "editable": false
   },
   "outputs": [
    {
     "data": {
      "text/html": [
       "<p><strong><pre style='display: inline;'>q17</pre></strong> passed!</p>"
      ],
      "text/plain": [
       "q17 results: All test cases passed!"
      ]
     },
     "execution_count": 105,
     "metadata": {},
     "output_type": "execute_result"
    }
   ],
   "source": [
    "grader.check(\"q17\")"
   ]
  },
  {
   "cell_type": "markdown",
   "id": "7e741ad5",
   "metadata": {},
   "source": [
    "**Question 18:** What is the difference between estimated sales for the *Nissan Leaf* in *2030* based on the average change per year between *2015* and *2017* and between *2016* and *2017*?\n",
    "\n",
    "You **must** invoke the `estimate_sales` function in your answer to this question. Use the default arguments if possible (your call to `estimate_sales` function **should not** pass any more arguments than is absolutely necessary). A positive answer implies that the estimate based on the sales between *2015* and *2017* is higher, while a negative answer implies that it is lower."
   ]
  },
  {
   "cell_type": "code",
   "execution_count": 106,
   "id": "8227071f",
   "metadata": {
    "tags": []
   },
   "outputs": [
    {
     "data": {
      "text/plain": [
       "-3165.5"
      ]
     },
     "execution_count": 106,
     "metadata": {},
     "output_type": "execute_result"
    }
   ],
   "source": [
    "# compute and store the answer in the variable 'diff_sales_leaf_2030'\n",
    "diff_sales_leaf_2030 = estimate_sales(\"Nissan Leaf\", 2030, end_year=2017) - estimate_sales(\"Nissan Leaf\", 2030, start_year=2016, end_year=2017)\n",
    "# display the variable 'diff_sales_leaf_2030' here\n",
    "diff_sales_leaf_2030"
   ]
  },
  {
   "cell_type": "code",
   "execution_count": 107,
   "id": "04e40066",
   "metadata": {
    "deletable": false,
    "editable": false
   },
   "outputs": [
    {
     "data": {
      "text/html": [
       "<p><strong><pre style='display: inline;'>q18</pre></strong> passed!</p>"
      ],
      "text/plain": [
       "q18 results: All test cases passed!"
      ]
     },
     "execution_count": 107,
     "metadata": {},
     "output_type": "execute_result"
    }
   ],
   "source": [
    "grader.check(\"q18\")"
   ]
  },
  {
   "cell_type": "markdown",
   "id": "14de7b6a",
   "metadata": {},
   "source": [
    "The wild answers we get to **Question 17** and **Question 18** suggest that our function `estimated_sales` is not very good at estimating the sales of any model in the future. This is not surprising since it is clearly not reasonable to assume that the rate of change in sales will remain constant over a period of time. We will now try to see how much the change per year in the sales of the models varies over time."
   ]
  },
  {
   "cell_type": "markdown",
   "id": "75d264ae",
   "metadata": {},
   "source": [
    "**Question 19:** What is the difference in change per year of *Chevy Volt* sales between the time periods of *2017* to *2019* and *2015* to *2016*?\n",
    "\n",
    "You **must** invoke the `change_per_year` function in your answer to this question. Use the default arguments if possible (your call to `change_per_year` function **should not** pass any more arguments than is absolutely necessary). A positive answer would imply that more cars were sold each year on average during the period *2017-2019* than during the period *2015-2016*, while a negative answer would imply that fewer cars were sold during the period *2017-2019*."
   ]
  },
  {
   "cell_type": "code",
   "execution_count": 108,
   "id": "07c3ab5c",
   "metadata": {
    "tags": []
   },
   "outputs": [
    {
     "data": {
      "text/plain": [
       "-17063.0"
      ]
     },
     "execution_count": 108,
     "metadata": {},
     "output_type": "execute_result"
    }
   ],
   "source": [
    "# compute and store the answer in the variable 'volt_diff_change_per_year'\n",
    "volt_diff_change_per_year = change_per_year(\"Chevy Volt\", start_year=2017) - change_per_year(\"Chevy Volt\", end_year=2016)\n",
    "# display the variable 'volt_diff_change_per_year' here\n",
    "volt_diff_change_per_year"
   ]
  },
  {
   "cell_type": "code",
   "execution_count": 109,
   "id": "ac11f6d0",
   "metadata": {
    "deletable": false,
    "editable": false
   },
   "outputs": [
    {
     "data": {
      "text/html": [
       "<p><strong><pre style='display: inline;'>q19</pre></strong> passed!</p>"
      ],
      "text/plain": [
       "q19 results: All test cases passed!"
      ]
     },
     "execution_count": 109,
     "metadata": {},
     "output_type": "execute_result"
    }
   ],
   "source": [
    "grader.check(\"q19\")"
   ]
  },
  {
   "cell_type": "markdown",
   "id": "a9ba490c",
   "metadata": {},
   "source": [
    "**Question 20:** What is, for the *Toyota Prius PHEV* sales, the ratio of the change per year between *2017* and *2018* to the change per year between *2015* and *2019*?\n",
    "\n",
    "You **must** invoke the `change_per_year` function in your answer to this question. Use the default arguments if possible (your call to `change_per_year` function **should not** pass any more arguments than is absolutely necessary). A value *greater than 1* here would imply that on average, more cars were sold each year during the period *2017-2018* than normal, while a value *less than 1* would imply that on average, fewer cars were sold each year during the period *2017-2018* than normal."
   ]
  },
  {
   "cell_type": "code",
   "execution_count": 110,
   "id": "adf4b064",
   "metadata": {
    "tags": []
   },
   "outputs": [
    {
     "data": {
      "text/plain": [
       "1.37023509439786"
      ]
     },
     "execution_count": 110,
     "metadata": {},
     "output_type": "execute_result"
    }
   ],
   "source": [
    "# compute and store the answer in the variable 'prius_change_per_year_ratio'\n",
    "prius_change_per_year_ratio = change_per_year(\"Toyota Prius PHEV\", start_year=2017, end_year=2018)/change_per_year(\"Toyota Prius PHEV\")\n",
    "# display the variable 'prius_change_per_year_ratio' here\n",
    "prius_change_per_year_ratio"
   ]
  },
  {
   "cell_type": "code",
   "execution_count": 111,
   "id": "15557c8f",
   "metadata": {
    "deletable": false,
    "editable": false
   },
   "outputs": [
    {
     "data": {
      "text/html": [
       "<p><strong><pre style='display: inline;'>q20</pre></strong> passed!</p>"
      ],
      "text/plain": [
       "q20 results: All test cases passed!"
      ]
     },
     "execution_count": 111,
     "metadata": {},
     "output_type": "execute_result"
    }
   ],
   "source": [
    "grader.check(\"q20\")"
   ]
  },
  {
   "cell_type": "markdown",
   "id": "674ea8ba",
   "metadata": {
    "deletable": false,
    "editable": false
   },
   "source": [
    "## Submission\n",
    "\n",
    "Make sure you have run all cells in your notebook in order before running the cell below, so that all images/graphs appear in the output. The cell below will generate a zip file for you to submit. **Please save before exporting!**\n",
    "\n",
    "**SUBMISSION INSTRUCTIONS**: 1. **Save** the notebook file **now (before you run the next cell of code)**. 2. **Upload** the zipfile to Gradescope. 3. Check **Gradescope otter** results as soon as the auto-grader execution gets completed. Don't worry about the score showing up as -/100.0. You only need to check that the test cases passed."
   ]
  },
  {
   "cell_type": "code",
   "execution_count": 112,
   "id": "517f8222",
   "metadata": {
    "deletable": false,
    "editable": false
   },
   "outputs": [
    {
     "name": "stdout",
     "output_type": "stream",
     "text": [
      "Running your submission against local test cases...\n",
      "\n",
      "Your submission received the following results when run against available test cases:\n",
      "\n",
      "    q1 results: All test cases passed!\n",
      "\n",
      "    q2 results: All test cases passed!\n",
      "\n",
      "    q3 results: All test cases passed!\n",
      "\n",
      "    q4 results: All test cases passed!\n",
      "\n",
      "    q5 results: All test cases passed!\n",
      "\n",
      "    q6 results: All test cases passed!\n",
      "\n",
      "    q7 results: All test cases passed!\n",
      "\n",
      "    q8 results: All test cases passed!\n",
      "\n",
      "    q9 results: All test cases passed!\n",
      "\n",
      "    q10 results: All test cases passed!\n",
      "\n",
      "    q11 results: All test cases passed!\n",
      "\n",
      "    q12 results: All test cases passed!\n",
      "\n",
      "    q13 results: All test cases passed!\n",
      "\n",
      "    q14 results: All test cases passed!\n",
      "\n",
      "    q15 results: All test cases passed!\n",
      "\n",
      "    q16 results: All test cases passed!\n",
      "\n",
      "    q17 results: All test cases passed!\n",
      "\n",
      "    q18 results: All test cases passed!\n",
      "\n",
      "    q19 results: All test cases passed!\n",
      "\n",
      "    q20 results: All test cases passed!\n"
     ]
    },
    {
     "data": {
      "text/html": [
       "\n",
       "            <p>Your submission has been exported. Click <a href=\"p3_2022_09_28T16_46_55_294779.zip\" download=\"p3_2022_09_28T16_46_55_294779.zip\" target=\"_blank\">here</a>\n",
       "            to download the zip file.</p>\n",
       "            "
      ],
      "text/plain": [
       "<IPython.core.display.HTML object>"
      ]
     },
     "metadata": {},
     "output_type": "display_data"
    }
   ],
   "source": [
    "# Save your notebook first, then run this cell to export your submission.\n",
    "grader.export(pdf=False, run_tests=True)"
   ]
  },
  {
   "cell_type": "markdown",
   "id": "c3c33ea6",
   "metadata": {},
   "source": [
    " "
   ]
  }
 ],
 "metadata": {
  "kernelspec": {
   "display_name": "Python 3 (ipykernel)",
   "language": "python",
   "name": "python3"
  },
  "language_info": {
   "codemirror_mode": {
    "name": "ipython",
    "version": 3
   },
   "file_extension": ".py",
   "mimetype": "text/x-python",
   "name": "python",
   "nbconvert_exporter": "python",
   "pygments_lexer": "ipython3",
   "version": "3.9.12"
  },
  "otter": {
   "OK_FORMAT": true,
   "tests": {
    "q1": {
     "name": "q1",
     "points": 5,
     "suites": [
      {
       "cases": [
        {
         "code": ">>> test.check(\"q1\", prius_id)\nTrue",
         "hidden": false,
         "locked": false
        }
       ],
       "scored": true,
       "setup": "",
       "teardown": "",
       "type": "doctest"
      }
     ]
    },
    "q10": {
     "name": "q10",
     "points": 5,
     "suites": [
      {
       "cases": [
        {
         "code": ">>> test.check(\"q10\", sales_sum_2019)\nTrue",
         "hidden": false,
         "locked": false
        }
       ],
       "scored": true,
       "setup": "",
       "teardown": "",
       "type": "doctest"
      }
     ]
    },
    "q11": {
     "name": "q11",
     "points": 5,
     "suites": [
      {
       "cases": [
        {
         "code": ">>> test.check(\"q11\", sales_sum_2017_to_2019)\nTrue",
         "hidden": false,
         "locked": false
        }
       ],
       "scored": true,
       "setup": "",
       "teardown": "",
       "type": "doctest"
      }
     ]
    },
    "q12": {
     "name": "q12",
     "points": 5,
     "suites": [
      {
       "cases": [
        {
         "code": ">>> test.check(\"q12\", fusion_average_change)\nTrue",
         "hidden": false,
         "locked": false
        }
       ],
       "scored": true,
       "setup": "",
       "teardown": "",
       "type": "doctest"
      }
     ]
    },
    "q13": {
     "name": "q13",
     "points": 5,
     "suites": [
      {
       "cases": [
        {
         "code": ">>> test.check(\"q13\", volt_average_change)\nTrue",
         "hidden": false,
         "locked": false
        }
       ],
       "scored": true,
       "setup": "",
       "teardown": "",
       "type": "doctest"
      }
     ]
    },
    "q14": {
     "name": "q14",
     "points": 5,
     "suites": [
      {
       "cases": [
        {
         "code": ">>> test.check(\"q14\", model_x_average_change)\nTrue",
         "hidden": false,
         "locked": false
        }
       ],
       "scored": true,
       "setup": "",
       "teardown": "",
       "type": "doctest"
      }
     ]
    },
    "q15": {
     "name": "q15",
     "points": 5,
     "suites": [
      {
       "cases": [
        {
         "code": ">>> test.check(\"q15\", leaf_sales_in_2021)\nTrue",
         "hidden": false,
         "locked": false
        }
       ],
       "scored": true,
       "setup": "",
       "teardown": "",
       "type": "doctest"
      }
     ]
    },
    "q16": {
     "name": "q16",
     "points": 5,
     "suites": [
      {
       "cases": [
        {
         "code": ">>> test.check(\"q16\", prius_sales_in_2022)\nTrue",
         "hidden": false,
         "locked": false
        }
       ],
       "scored": true,
       "setup": "",
       "teardown": "",
       "type": "doctest"
      }
     ]
    },
    "q17": {
     "name": "q17",
     "points": 5,
     "suites": [
      {
       "cases": [
        {
         "code": ">>> test.check(\"q17\", diff_sales_model_x_2030)\nTrue",
         "hidden": false,
         "locked": false
        }
       ],
       "scored": true,
       "setup": "",
       "teardown": "",
       "type": "doctest"
      }
     ]
    },
    "q18": {
     "name": "q18",
     "points": 5,
     "suites": [
      {
       "cases": [
        {
         "code": ">>> test.check(\"q18\", diff_sales_leaf_2030)\nTrue",
         "hidden": false,
         "locked": false
        }
       ],
       "scored": true,
       "setup": "",
       "teardown": "",
       "type": "doctest"
      }
     ]
    },
    "q19": {
     "name": "q19",
     "points": 5,
     "suites": [
      {
       "cases": [
        {
         "code": ">>> test.check(\"q19\", volt_diff_change_per_year)\nTrue",
         "hidden": false,
         "locked": false
        }
       ],
       "scored": true,
       "setup": "",
       "teardown": "",
       "type": "doctest"
      }
     ]
    },
    "q2": {
     "name": "q2",
     "points": 5,
     "suites": [
      {
       "cases": [
        {
         "code": ">>> test.check(\"q2\", num_leaf)\nTrue",
         "hidden": false,
         "locked": false
        }
       ],
       "scored": true,
       "setup": "",
       "teardown": "",
       "type": "doctest"
      }
     ]
    },
    "q20": {
     "name": "q20",
     "points": 5,
     "suites": [
      {
       "cases": [
        {
         "code": ">>> test.check(\"q20\", prius_change_per_year_ratio)\nTrue",
         "hidden": false,
         "locked": false
        }
       ],
       "scored": true,
       "setup": "",
       "teardown": "",
       "type": "doctest"
      }
     ]
    },
    "q3": {
     "name": "q3",
     "points": 5,
     "suites": [
      {
       "cases": [
        {
         "code": ">>> test.check(\"q3\", max_sales_2017)\nTrue",
         "hidden": false,
         "locked": false
        }
       ],
       "scored": true,
       "setup": "",
       "teardown": "",
       "type": "doctest"
      }
     ]
    },
    "q4": {
     "name": "q4",
     "points": 5,
     "suites": [
      {
       "cases": [
        {
         "code": ">>> test.check(\"q4\", max_sales_2016_to_2018)\nTrue",
         "hidden": false,
         "locked": false
        }
       ],
       "scored": true,
       "setup": "",
       "teardown": "",
       "type": "doctest"
      }
     ]
    },
    "q5": {
     "name": "q5",
     "points": 5,
     "suites": [
      {
       "cases": [
        {
         "code": ">>> test.check(\"q5\", min_sales_model_S)\nTrue",
         "hidden": false,
         "locked": false
        }
       ],
       "scored": true,
       "setup": "",
       "teardown": "",
       "type": "doctest"
      }
     ]
    },
    "q6": {
     "name": "q6",
     "points": 5,
     "suites": [
      {
       "cases": [
        {
         "code": ">>> test.check(\"q6\", min_sales_CV_FFE_NL)\nTrue",
         "hidden": false,
         "locked": false
        }
       ],
       "scored": true,
       "setup": "",
       "teardown": "",
       "type": "doctest"
      }
     ]
    },
    "q7": {
     "name": "q7",
     "points": 5,
     "suites": [
      {
       "cases": [
        {
         "code": ">>> test.check(\"q7\", sales_avg_prius_2015_to_2019)\nTrue",
         "hidden": false,
         "locked": false
        }
       ],
       "scored": true,
       "setup": "",
       "teardown": "",
       "type": "doctest"
      }
     ]
    },
    "q8": {
     "name": "q8",
     "points": 5,
     "suites": [
      {
       "cases": [
        {
         "code": ">>> test.check(\"q8\", sales_avg_volt_2015_to_2019)\nTrue",
         "hidden": false,
         "locked": false
        }
       ],
       "scored": true,
       "setup": "",
       "teardown": "",
       "type": "doctest"
      }
     ]
    },
    "q9": {
     "name": "q9",
     "points": 5,
     "suites": [
      {
       "cases": [
        {
         "code": ">>> test.check(\"q9\", diff_leaf_2018_to_average)\nTrue",
         "hidden": false,
         "locked": false
        }
       ],
       "scored": true,
       "setup": "",
       "teardown": "",
       "type": "doctest"
      }
     ]
    }
   }
  },
  "vscode": {
   "interpreter": {
    "hash": "f08154012ddadd8e950e6e9e035c7a7b32c136e7647e9b7c77e02eb723a8bedb"
   }
  }
 },
 "nbformat": 4,
 "nbformat_minor": 5
}
